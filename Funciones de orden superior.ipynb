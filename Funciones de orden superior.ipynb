{
 "cells": [
  {
   "cell_type": "markdown",
   "metadata": {},
   "source": [
    "# Unidad 4 Funciones de orden superior"
   ]
  },
  {
   "cell_type": "markdown",
   "metadata": {},
   "source": [
    "Una función de orden superior es una función simple que toma una o más funciones como argumentos y/o produce otra función como resultado. Muchas abstracciones interesantes están disponibles aquí. Unas cuantas funciones de orden superior están contenidas en el módulo functools . Las más comunes o que tenemos presentes son map() , filter(), functools.reduce(), casi en todos los lenguajes de programación funcional se usan estas funciones como primitivas(a veces bajo otros nombres) .Tambien está el currying que se representa como partial() en el módulo de functools."
   ]
  },
  {
   "cell_type": "markdown",
   "metadata": {},
   "source": [
    "## Map y Filter"
   ]
  },
  {
   "cell_type": "markdown",
   "metadata": {},
   "source": [
    "Son equivalentes a comprehensiones. La mayoría de los programadores en Python encuentran la comprehensión más legible"
   ]
  },
  {
   "cell_type": "markdown",
   "metadata": {},
   "source": [
    "### Map"
   ]
  },
  {
   "cell_type": "markdown",
   "metadata": {},
   "source": [
    "La herramienta map aplica una función a todos los elementos de una lista de entrada . A continuación se ejemplifica su uso :"
   ]
  },
  {
   "cell_type": "markdown",
   "metadata": {},
   "source": [
    "```python\n",
    "   map(funcion_para_aplicar, lista_entrada)\n",
    "```"
   ]
  },
  {
   "cell_type": "code",
   "execution_count": 4,
   "metadata": {},
   "outputs": [
    {
     "name": "stdout",
     "output_type": "stream",
     "text": [
      "[1, 125, 343, 512, 1331, 39304]\n"
     ]
    }
   ],
   "source": [
    "def cuboDeUnNumero (x) :\n",
    "    return x**3\n",
    "    \n",
    "elementos = [1 , 5, 7, 8, 11 , 34]\n",
    "print(list(map(cuboDeUnNumero, elementos)))"
   ]
  },
  {
   "cell_type": "markdown",
   "metadata": {},
   "source": [
    "### Filter"
   ]
  },
  {
   "cell_type": "markdown",
   "metadata": {},
   "source": [
    "Como el nombre lo sugiere, filter crea una lista de valores los cuales retornan true dada una función."
   ]
  },
  {
   "cell_type": "code",
   "execution_count": 3,
   "metadata": {},
   "outputs": [
    {
     "name": "stdout",
     "output_type": "stream",
     "text": [
      "[-10, -9, -8, -7, -6, -5, -4, -3, -2, -1]\n"
     ]
    }
   ],
   "source": [
    "listaNumeros = range(-10, 25)\n",
    "menoresQueCero = list(filter(lambda x: x < 0, listaNumeros))\n",
    "print(menoresQueCero)\n"
   ]
  },
  {
   "cell_type": "markdown",
   "metadata": {},
   "source": [
    "## Reduce"
   ]
  },
  {
   "cell_type": "markdown",
   "metadata": {},
   "source": [
    "La función reduce () es muy general, muy poderosa,y muy fácil de usar con toda su potencia. Toma elementos sucesivos de un iterable, y los combina de alguna manera. El uso más común para reduce () probablemente esté cubierto por sum () incorporado"
   ]
  },
  {
   "cell_type": "code",
   "execution_count": 11,
   "metadata": {},
   "outputs": [],
   "source": [
    "from functools import reduce\n",
    "import operator\n",
    "it = range(4,56)\n",
    "total = reduce(operator.add, it, 0)\n",
    "total=sum(it)"
   ]
  },
  {
   "cell_type": "code",
   "execution_count": 12,
   "metadata": {},
   "outputs": [
    {
     "name": "stdout",
     "output_type": "stream",
     "text": [
      "1534\n"
     ]
    }
   ],
   "source": [
    "print(total)"
   ]
  },
  {
   "cell_type": "markdown",
   "metadata": {},
   "source": [
    "<div class=\"alert alert-block alert-info\"> **Map y Filter son también casos especiales de reduce ** </div> "
   ]
  },
  {
   "cell_type": "markdown",
   "metadata": {},
   "source": [
    "**Con reduce**"
   ]
  },
  {
   "cell_type": "code",
   "execution_count": 13,
   "metadata": {},
   "outputs": [
    {
     "data": {
      "text/plain": [
       "[5, 6, 7, 8, 9, 10, 11, 12, 13, 14]"
      ]
     },
     "execution_count": 13,
     "metadata": {},
     "output_type": "execute_result"
    }
   ],
   "source": [
    "sumar5 = lambda n: n+5\n",
    "reduce(lambda l,x : l +[sumar5(x)], range(10),[])"
   ]
  },
  {
   "cell_type": "markdown",
   "metadata": {},
   "source": [
    "**Con map, mucho más simple**"
   ]
  },
  {
   "cell_type": "code",
   "execution_count": 15,
   "metadata": {
    "scrolled": true
   },
   "outputs": [
    {
     "data": {
      "text/plain": [
       "[5, 6, 7, 8, 9, 10, 11, 12, 13, 14]"
      ]
     },
     "execution_count": 15,
     "metadata": {},
     "output_type": "execute_result"
    }
   ],
   "source": [
    "list(map(sumar5,range(10)))"
   ]
  },
  {
   "cell_type": "markdown",
   "metadata": {},
   "source": [
    "**Con reduce**"
   ]
  },
  {
   "cell_type": "code",
   "execution_count": 16,
   "metadata": {},
   "outputs": [
    {
     "data": {
      "text/plain": [
       "[1, 3, 5, 7, 9]"
      ]
     },
     "execution_count": 16,
     "metadata": {},
     "output_type": "execute_result"
    }
   ],
   "source": [
    "esPar = lambda n:n%2\n",
    "reduce(lambda l,x : l+[x] if esPar(x) else l, range(10), [])"
   ]
  },
  {
   "cell_type": "markdown",
   "metadata": {},
   "source": [
    "**Con filter, mucho más simple**"
   ]
  },
  {
   "cell_type": "code",
   "execution_count": 17,
   "metadata": {},
   "outputs": [
    {
     "data": {
      "text/plain": [
       "[1, 3, 5, 7, 9]"
      ]
     },
     "execution_count": 17,
     "metadata": {},
     "output_type": "execute_result"
    }
   ],
   "source": [
    "list(filter(esPar, range(10)))"
   ]
  },
  {
   "cell_type": "markdown",
   "metadata": {},
   "source": [
    "Las expresiones lambda son raras, pero ilustran lo poderoso de las funciones en su generalidad. Cualquier cosas que pueda ser computado de una secuencia puede ser expresado como una reducción"
   ]
  },
  {
   "cell_type": "markdown",
   "metadata": {},
   "source": [
    "## Compose"
   ]
  },
  {
   "cell_type": "markdown",
   "metadata": {},
   "source": [
    "Toma una secuencia de funciones y retorna una función que representa la aplicación de cada uno de esos argumentos(funciones) a datos (segundo argumento)"
   ]
  },
  {
   "cell_type": "code",
   "execution_count": 18,
   "metadata": {
    "collapsed": true
   },
   "outputs": [],
   "source": [
    "def compose (*funciones):\n",
    "    def interior(datos, funciones=funciones):\n",
    "        resultado = datos\n",
    "        for f in reversed(funciones):\n",
    "            resultado=f(resultado)\n",
    "        return resultado\n",
    "    return interior\n"
   ]
  },
  {
   "cell_type": "code",
   "execution_count": 20,
   "metadata": {},
   "outputs": [
    {
     "data": {
      "text/plain": [
       "True"
      ]
     },
     "execution_count": 20,
     "metadata": {},
     "output_type": "execute_result"
    }
   ],
   "source": [
    "multiplicarDos = lambda x: x*2\n",
    "restarTres = lambda x : x-3\n",
    "moduloSeis = lambda x : x%6\n",
    "f = compose(moduloSeis, multiplicarDos , restarTres)\n",
    "all(f(i)==((i-3)*2)%6 for i in range (100000))"
   ]
  },
  {
   "cell_type": "markdown",
   "metadata": {},
   "source": [
    "Para esas funciones de una sola línea podríamos escribir la expresión matemática subyacente fácilmente. Pero si los cálculos son compuestos, involucran ramificaciones, control de flujo, lógica compleja, etc aquí no aplicaría tal facilidad."
   ]
  },
  {
   "cell_type": "markdown",
   "metadata": {},
   "source": [
    "## All y Any"
   ]
  },
  {
   "cell_type": "markdown",
   "metadata": {},
   "source": [
    "Las funciones incorporadas all () y any () son útiles para preguntar si un predicado tiene elementos de un iterable. Pero tambien es Es bueno poder preguntar si alguno / todos de una colección de predicados puede tener  un elemento de datos en particular de una manera composable. Podríamos implementar estos como:"
   ]
  },
  {
   "cell_type": "code",
   "execution_count": null,
   "metadata": {
    "collapsed": true
   },
   "outputs": [],
   "source": []
  },
  {
   "cell_type": "code",
   "execution_count": null,
   "metadata": {
    "collapsed": true
   },
   "outputs": [],
   "source": []
  }
 ],
 "metadata": {
  "kernelspec": {
   "display_name": "Python 3",
   "language": "python",
   "name": "python3"
  },
  "language_info": {
   "codemirror_mode": {
    "name": "ipython",
    "version": 3
   },
   "file_extension": ".py",
   "mimetype": "text/x-python",
   "name": "python",
   "nbconvert_exporter": "python",
   "pygments_lexer": "ipython3",
   "version": "3.6.1"
  }
 },
 "nbformat": 4,
 "nbformat_minor": 2
}
