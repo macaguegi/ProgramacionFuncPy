{
 "cells": [
  {
   "cell_type": "markdown",
   "metadata": {},
   "source": [
    "# Unidad 2 : Callables"
   ]
  },
  {
   "cell_type": "markdown",
   "metadata": {},
   "source": [
    "El llamado a funciones es lo más importante dentro de la PF. Python tiene diferentes maneras de crear funciones o similares a las funciones, entre estas maneras tenemos : \n",
    "\n",
    "1. Funciones regulares def , nombre_funcion\n",
    "2. Funciones anónimas creadas con lambda\n",
    "3. Instancias de clases que definen un método _call()_\n",
    "4. Closures\n",
    "5. Generadores de funciones\n",
    "6. Métodos estáticos de instancias\n"
   ]
  },
  {
   "cell_type": "markdown",
   "metadata": {},
   "source": [
    "Estamos acostumbrados a crear clases y a partir de estas generar instancias que representan contenedores de datos que son mutables. **Este estilo no es el de la PF, es el que normalmente se acomoda a la programación orientada a objetos.**"
   ]
  },
  {
   "cell_type": "markdown",
   "metadata": {},
   "source": [
    "<div class=\"alert alert-block alert-info\"> **LA PROGRAMACIÓN FUNCIONAL ENFATIZA EN LA INMUTABILIDAD Y USO DE FUNCIONES PURAS ** </div> "
   ]
  },
  {
   "cell_type": "markdown",
   "metadata": {},
   "source": [
    "## Funciones puras"
   ]
  },
  {
   "cell_type": "markdown",
   "metadata": {},
   "source": [
    "No es una función pura : Si se accede al estado de una instancia (en cualquier grado).Una ventaja del uso de funciones puras y código sin efectos colaterales es que será más fácil hacer el debug y el testeo. \n"
   ]
  },
  {
   "cell_type": "code",
   "execution_count": 9,
   "metadata": {},
   "outputs": [
    {
     "name": "stdout",
     "output_type": "stream",
     "text": [
      "[6, 15, 18, 21]\n"
     ]
    }
   ],
   "source": [
    "def tripleDiversion (unaLista):\n",
    "    #Retorna una lista nueva que contiene triples de los elementos de unaLista\n",
    "    nuevaLista = []\n",
    "    for cadaElemento in unaLista :\n",
    "        nuevoElemento = 3* cadaElemento\n",
    "        nuevaLista.append(nuevoElemento)\n",
    "    return nuevaLista\n",
    "\n",
    "miLista = [2 , 5, 6, 7]\n",
    "miListaNueva = tripleDiversion(miLista)\n",
    "print (miListaNueva)"
   ]
  },
  {
   "cell_type": "markdown",
   "metadata": {},
   "source": [
    "## Funciones con nombre y Lambdas"
   ]
  },
  {
   "cell_type": "markdown",
   "metadata": {},
   "source": [
    ":floppy_disk:"
   ]
  },
  {
   "cell_type": "code",
   "execution_count": null,
   "metadata": {
    "collapsed": true
   },
   "outputs": [],
   "source": []
  }
 ],
 "metadata": {
  "kernelspec": {
   "display_name": "Python 3",
   "language": "python",
   "name": "python3"
  },
  "language_info": {
   "codemirror_mode": {
    "name": "ipython",
    "version": 3
   },
   "file_extension": ".py",
   "mimetype": "text/x-python",
   "name": "python",
   "nbconvert_exporter": "python",
   "pygments_lexer": "ipython3",
   "version": "3.6.1"
  }
 },
 "nbformat": 4,
 "nbformat_minor": 2
}
