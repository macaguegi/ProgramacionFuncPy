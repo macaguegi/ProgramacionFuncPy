{
 "cells": [
  {
   "cell_type": "markdown",
   "metadata": {},
   "source": [
    "# Unidad 2 : Callables "
   ]
  },
  {
   "cell_type": "markdown",
   "metadata": {},
   "source": [
    "El llamado a funciones es lo más importante dentro de la PF. Python tiene diferentes maneras de crear funciones o similares a las funciones, entre estas maneras tenemos : \n",
    "\n",
    "1. Funciones regulares def , nombre_funcion\n",
    "2. Funciones anónimas creadas con lambda\n",
    "3. Instancias de clases que definen un método _call()_\n",
    "4. Closures\n",
    "5. Generadores de funciones\n",
    "6. Métodos estáticos de instancias\n"
   ]
  },
  {
   "attachments": {},
   "cell_type": "markdown",
   "metadata": {},
   "source": [
    "![Image of CALL](https://encrypted-tbn0.gstatic.com/images?q=tbn:ANd9GcQg3NtkV8GRdzzSSiiQdS_vR4nW3t4UHT-sqxApbdT0HpS0wpoveA)"
   ]
  },
  {
   "cell_type": "markdown",
   "metadata": {},
   "source": [
    "Estamos acostumbrados a crear clases y a partir de estas generar instancias que representan contenedores de datos que son mutables. **Este estilo no es el de la PF, es el que normalmente se acomoda a la programación orientada a objetos.**"
   ]
  },
  {
   "cell_type": "markdown",
   "metadata": {},
   "source": [
    "<div class=\"alert alert-block alert-info\"> **LA PROGRAMACIÓN FUNCIONAL ENFATIZA EN LA INMUTABILIDAD Y USO DE FUNCIONES PURAS ** </div> "
   ]
  },
  {
   "cell_type": "markdown",
   "metadata": {},
   "source": [
    "## Funciones puras"
   ]
  },
  {
   "cell_type": "markdown",
   "metadata": {},
   "source": [
    "No es una función pura : Si se accede al estado de una instancia (en cualquier grado).Una ventaja del uso de funciones puras y código sin efectos colaterales es que será más fácil hacer el debug y el testeo. \n"
   ]
  },
  {
   "cell_type": "markdown",
   "metadata": {},
   "source": [
    "### Ejemplo 2.1"
   ]
  },
  {
   "cell_type": "code",
   "execution_count": 9,
   "metadata": {},
   "outputs": [
    {
     "name": "stdout",
     "output_type": "stream",
     "text": [
      "[6, 15, 18, 21]\n"
     ]
    }
   ],
   "source": [
    "def tripleDiversion (unaLista):\n",
    "    #Retorna una lista nueva que contiene triples de los elementos de unaLista\n",
    "    nuevaLista = []\n",
    "    for cadaElemento in unaLista :\n",
    "        nuevoElemento = 3* cadaElemento\n",
    "        nuevaLista.append(nuevoElemento)\n",
    "    return nuevaLista\n",
    "\n",
    "miLista = [2 , 5, 6, 7]\n",
    "miListaNueva = tripleDiversion(miLista)\n",
    "print (miListaNueva)"
   ]
  },
  {
   "cell_type": "markdown",
   "metadata": {},
   "source": [
    "## Funciones convencionales y Lambdas"
   ]
  },
  {
   "cell_type": "markdown",
   "metadata": {},
   "source": [
    "Es la manera más obvia o trivial de crear callables. La diferencia entre ellas es el atributito _qualname_  , ya que pueden estar ligados a uno o más nombres.  "
   ]
  },
  {
   "cell_type": "markdown",
   "metadata": {
    "collapsed": true
   },
   "source": [
    "Las lambdas se utilizan para devoluciones de llamadas y acciones simples, funciones que se quieren obtener de manera rápida, just in time o sobre la marcha para prototipos ligeros que requieren una operación pequeña. Un operador lambda es una forma de crear funciones anónimas."
   ]
  },
  {
   "cell_type": "markdown",
   "metadata": {},
   "source": [
    "<div class=\"alert alert-block alert-info\"> **Toda función lambda también puede expresarse como una convencional (pero no viceversa). ** </div> "
   ]
  },
  {
   "cell_type": "markdown",
   "metadata": {},
   "source": [
    "Una función lambda se hace de la siguiente manera :\n",
    "\n",
    "```python\n",
    "nombreFunc = lambda argumentos : resultado\n",
    "```"
   ]
  },
  {
   "cell_type": "markdown",
   "metadata": {},
   "source": [
    "### Ejemplo 2.2"
   ]
  },
  {
   "cell_type": "markdown",
   "metadata": {},
   "source": [
    "Realizar una función convencional que sume dos números _numeroUno_ y _numeroDos_ , seguido a esto realice una lambda que haga la misma operación."
   ]
  },
  {
   "cell_type": "code",
   "execution_count": 4,
   "metadata": {
    "collapsed": true
   },
   "outputs": [],
   "source": [
    "def sumaConvencional (numeroUno, numeroDos):\n",
    "    return numeroUno+numeroDos"
   ]
  },
  {
   "cell_type": "code",
   "execution_count": 2,
   "metadata": {
    "collapsed": true
   },
   "outputs": [],
   "source": [
    "suma = lambda numeroUno,numeroDos : numeroUno+numeroDos"
   ]
  },
  {
   "cell_type": "code",
   "execution_count": 3,
   "metadata": {},
   "outputs": [
    {
     "data": {
      "text/plain": [
       "9"
      ]
     },
     "execution_count": 3,
     "metadata": {},
     "output_type": "execute_result"
    }
   ],
   "source": [
    "suma(4,5)"
   ]
  },
  {
   "cell_type": "code",
   "execution_count": 6,
   "metadata": {},
   "outputs": [
    {
     "data": {
      "text/plain": [
       "'sumaConvencional'"
      ]
     },
     "execution_count": 6,
     "metadata": {},
     "output_type": "execute_result"
    }
   ],
   "source": [
    "sumaConvencional.__qualname__"
   ]
  },
  {
   "cell_type": "code",
   "execution_count": 7,
   "metadata": {},
   "outputs": [
    {
     "data": {
      "text/plain": [
       "'<lambda>'"
      ]
     },
     "execution_count": 7,
     "metadata": {},
     "output_type": "execute_result"
    }
   ],
   "source": [
    "suma.__qualname__"
   ]
  },
  {
   "cell_type": "code",
   "execution_count": 8,
   "metadata": {
    "collapsed": true
   },
   "outputs": [],
   "source": [
    "suma.__qualname__= 'sumaLambda'"
   ]
  },
  {
   "cell_type": "code",
   "execution_count": 9,
   "metadata": {},
   "outputs": [
    {
     "data": {
      "text/plain": [
       "'sumaLambda'"
      ]
     },
     "execution_count": 9,
     "metadata": {},
     "output_type": "execute_result"
    }
   ],
   "source": [
    "suma.__qualname__"
   ]
  },
  {
   "cell_type": "markdown",
   "metadata": {},
   "source": [
    "### Ejercicio 2.1"
   ]
  },
  {
   "cell_type": "markdown",
   "metadata": {},
   "source": [
    "Pruebe la función saludar , modifique la función convencional y su correspondiente  lambda para que eleve al cuadrado un número. <img src=\"https://d1b6tx2agdphz5.cloudfront.net/tuenti-es/attachment/bebdc4a9-2c03-411a-a777-813612a28ff9.png\" width=\"12%\">"
   ]
  },
  {
   "cell_type": "code",
   "execution_count": 8,
   "metadata": {
    "collapsed": true
   },
   "outputs": [],
   "source": [
    "def saludar (nombre):\n",
    "    return print(\"Hola \" + nombre )"
   ]
  },
  {
   "cell_type": "code",
   "execution_count": 9,
   "metadata": {},
   "outputs": [
    {
     "name": "stdout",
     "output_type": "stream",
     "text": [
      "Hola Pepe\n"
     ]
    }
   ],
   "source": [
    "saludar(\"Pepe\")"
   ]
  },
  {
   "cell_type": "code",
   "execution_count": 5,
   "metadata": {
    "collapsed": true
   },
   "outputs": [],
   "source": [
    "saludo = lambda nombre : print(\"Hola \" + nombre)"
   ]
  },
  {
   "cell_type": "code",
   "execution_count": 6,
   "metadata": {},
   "outputs": [
    {
     "name": "stdout",
     "output_type": "stream",
     "text": [
      "Hola Laura\n"
     ]
    }
   ],
   "source": [
    "saludo(\"Laura\")"
   ]
  },
  {
   "cell_type": "markdown",
   "metadata": {
    "collapsed": true
   },
   "source": [
    "## Closures e Instancias"
   ]
  },
  {
   "cell_type": "markdown",
   "metadata": {
    "collapsed": true
   },
   "source": [
    "<div class=\"alert alert-block alert-info\"> **En ciencias de la computación se dice que una clase es “datos con operaciones adjuntos” mientras que un closure son “operaciones con datos adjuntos”.  ** </div> "
   ]
  },
  {
   "cell_type": "markdown",
   "metadata": {},
   "source": [
    "La diferencia entre estos radica en que las clases enfatizan en lo mutable o en un estado reutilizable , y los closures enfatizan en la inmutabilidad y la pureza de las funciones. En Python ninguno de los dos es absoluto, pero hay diferentes usos y preferencias que motivan al uso de cada uno dadas situaciones específicas"
   ]
  },
  {
   "cell_type": "code",
   "execution_count": 3,
   "metadata": {},
   "outputs": [],
   "source": [
    "class incremento(object):\n",
    "    def __init__(self,n):\n",
    "        self.n=n\n",
    "        \n",
    "    def __call__(self,m):\n",
    "        return self.n+m\n",
    "    \n",
    "incrementoDeCincoI = incremento(5)\n"
   ]
  },
  {
   "cell_type": "code",
   "execution_count": 4,
   "metadata": {},
   "outputs": [
    {
     "data": {
      "text/plain": [
       "15"
      ]
     },
     "execution_count": 4,
     "metadata": {},
     "output_type": "execute_result"
    }
   ],
   "source": [
    "incrementoDeCincoI(10)"
   ]
  },
  {
   "cell_type": "code",
   "execution_count": 5,
   "metadata": {
    "collapsed": true
   },
   "outputs": [],
   "source": [
    "def hacer_incremento(n):\n",
    "    def incremento(m):\n",
    "        return m+n\n",
    "    return incremento\n",
    "\n",
    "incrementoDeCincoF = hacer_incremento(5)"
   ]
  },
  {
   "cell_type": "code",
   "execution_count": 6,
   "metadata": {},
   "outputs": [
    {
     "data": {
      "text/plain": [
       "15"
      ]
     },
     "execution_count": 6,
     "metadata": {},
     "output_type": "execute_result"
    }
   ],
   "source": [
    "incrementoDeCincoF(10)"
   ]
  },
  {
   "cell_type": "code",
   "execution_count": 9,
   "metadata": {
    "collapsed": true
   },
   "outputs": [],
   "source": [
    "incrementoDeCincoI.n = 10\n",
    "#El estado es mutable!"
   ]
  },
  {
   "cell_type": "code",
   "execution_count": 10,
   "metadata": {},
   "outputs": [
    {
     "data": {
      "text/plain": [
       "29"
      ]
     },
     "execution_count": 10,
     "metadata": {},
     "output_type": "execute_result"
    }
   ],
   "source": [
    "incrementoDeCincoI(19)\n",
    "#El resultado es dependiente del flujo"
   ]
  },
  {
   "cell_type": "markdown",
   "metadata": {},
   "source": [
    "## Métodos de clases"
   ]
  },
  {
   "cell_type": "markdown",
   "metadata": {},
   "source": [
    "Todos los métodos de las clases son callables"
   ]
  },
  {
   "cell_type": "markdown",
   "metadata": {},
   "source": [
    "<div class=\"alert alert-warning\">\n",
    "  <strong>Advertencia!</strong> Llamar un método a partir de una instancia va en contra de los estilos de la PF . \n",
    "</div>"
   ]
  },
  {
   "cell_type": "markdown",
   "metadata": {},
   "source": [
    "### Accesarios y operadores"
   ]
  },
  {
   "cell_type": "markdown",
   "metadata": {},
   "source": [
    "Incluso los accesorios, ya sean creados con el decorador @property o por otros medios, son técnicamente callables,aunque los accesores son callables con un uso limitado, de esta forma no toman argumentos como getters y no devuelven ningún valor como setters."
   ]
  },
  {
   "cell_type": "code",
   "execution_count": 11,
   "metadata": {
    "collapsed": true
   },
   "outputs": [],
   "source": [
    "class Carro(object):\n",
    "    def __init__(self):\n",
    "        self._velocidad=100\n",
    "        \n",
    "    @property\n",
    "    def velocidad(self):\n",
    "        print(\"La velocidad es\", self._velocidad)\n",
    "        return self._velocidad\n",
    "    \n",
    "    @velocidad.setter\n",
    "    def velocidad(self, valor):\n",
    "        print(\"Ajustando a \", valor)\n",
    "        self._velocidad=valor\n",
    "        \n",
    "    "
   ]
  },
  {
   "cell_type": "code",
   "execution_count": 12,
   "metadata": {
    "collapsed": true
   },
   "outputs": [],
   "source": [
    "carrito = Carro()"
   ]
  },
  {
   "cell_type": "code",
   "execution_count": 13,
   "metadata": {},
   "outputs": [
    {
     "name": "stdout",
     "output_type": "stream",
     "text": [
      "Ajustando a  90\n"
     ]
    }
   ],
   "source": [
    "carrito.velocidad=90"
   ]
  },
  {
   "cell_type": "code",
   "execution_count": 14,
   "metadata": {},
   "outputs": [
    {
     "name": "stdout",
     "output_type": "stream",
     "text": [
      "La velocidad es 90\n"
     ]
    }
   ],
   "source": [
    "x = carrito.velocidad"
   ]
  },
  {
   "cell_type": "markdown",
   "metadata": {},
   "source": [
    "<img src=\"http://idv.com.co/images/cotizacionvehiculo/2_accesorios-ima.png\" width=\"20%\">"
   ]
  },
  {
   "cell_type": "markdown",
   "metadata": {},
   "source": [
    "En un  accesorio, usamos la sintaxis de asignación para pasar un argumento . Eso en sí mismo es muy fácil para la sintaxis de Python, por ejemplo :"
   ]
  },
  {
   "cell_type": "code",
   "execution_count": 15,
   "metadata": {
    "collapsed": true
   },
   "outputs": [],
   "source": [
    "class TalkativeInt(int):\n",
    "    def __lshift__(self,other):\n",
    "        print(\"Shift\", self, \"by\" , other)\n",
    "        return int.__lshift__(self, other)\n",
    "    "
   ]
  },
  {
   "cell_type": "code",
   "execution_count": 16,
   "metadata": {
    "collapsed": true
   },
   "outputs": [],
   "source": [
    "t = TalkativeInt(8)"
   ]
  },
  {
   "cell_type": "code",
   "execution_count": 17,
   "metadata": {},
   "outputs": [
    {
     "data": {
      "text/plain": [
       "8"
      ]
     },
     "execution_count": 17,
     "metadata": {},
     "output_type": "execute_result"
    }
   ],
   "source": [
    "t"
   ]
  },
  {
   "cell_type": "code",
   "execution_count": 18,
   "metadata": {},
   "outputs": [
    {
     "name": "stdout",
     "output_type": "stream",
     "text": [
      "Shift 8 by 3\n"
     ]
    },
    {
     "data": {
      "text/plain": [
       "64"
      ]
     },
     "execution_count": 18,
     "metadata": {},
     "output_type": "execute_result"
    }
   ],
   "source": [
    "t << 3"
   ]
  },
  {
   "cell_type": "markdown",
   "metadata": {},
   "source": [
    "### Métodos estáticos de las instancias"
   ]
  },
  {
   "cell_type": "markdown",
   "metadata": {},
   "source": [
    "Un uso de las clases y sus métodos que se acerca más al estilo de la PF es usarlos simplemente como espacios de nombres para alojar varias funciones relacionadas"
   ]
  },
  {
   "cell_type": "code",
   "execution_count": 19,
   "metadata": {
    "collapsed": true
   },
   "outputs": [],
   "source": [
    "import math\n",
    "\n",
    "class Triangulo(object):\n",
    "    \n",
    "    @staticmethod\n",
    "    def hipotenusa(a,b):\n",
    "        return math.sqrt(a**2 + b**2)\n",
    "    \n",
    "    @staticmethod\n",
    "    def seno(a,b):\n",
    "        return a/ Triangulo.hipotenusa(a,b)\n",
    "    \n",
    "    @staticmethod\n",
    "    def coseno(a,b):\n",
    "        return b/ Triangulo.hipotenusa(a,b)"
   ]
  },
  {
   "cell_type": "markdown",
   "metadata": {},
   "source": [
    "Mantener esta funcionalidad en una clase evita contaminar el espacio de nombre global y también nos permite ya sea a la clase o a la instancia de esta hacer llamados a funciones puras."
   ]
  },
  {
   "cell_type": "code",
   "execution_count": 20,
   "metadata": {},
   "outputs": [
    {
     "data": {
      "text/plain": [
       "12.041594578792296"
      ]
     },
     "execution_count": 20,
     "metadata": {},
     "output_type": "execute_result"
    }
   ],
   "source": [
    "Triangulo.hipotenusa(8,9)"
   ]
  },
  {
   "cell_type": "code",
   "execution_count": 21,
   "metadata": {
    "collapsed": true
   },
   "outputs": [],
   "source": [
    "tr = Triangulo()"
   ]
  },
  {
   "cell_type": "code",
   "execution_count": 22,
   "metadata": {},
   "outputs": [
    {
     "data": {
      "text/plain": [
       "0.5144957554275265"
      ]
     },
     "execution_count": 22,
     "metadata": {},
     "output_type": "execute_result"
    }
   ],
   "source": [
    "tr.seno(3,5)"
   ]
  },
  {
   "cell_type": "code",
   "execution_count": 25,
   "metadata": {},
   "outputs": [
    {
     "data": {
      "text/plain": [
       "0.8"
      ]
     },
     "execution_count": 25,
     "metadata": {},
     "output_type": "execute_result"
    }
   ],
   "source": [
    "tr.coseno(3,4)"
   ]
  },
  {
   "cell_type": "markdown",
   "metadata": {},
   "source": [
    "### Módulo functools"
   ]
  },
  {
   "cell_type": "markdown",
   "metadata": {},
   "source": [
    "La forma más directa de definir métodos estáticos es con el decorador nombrado de la manera obvia. Sin embargo, en Python 3.x, se pueden sacar funciones que no se han decorado demasiado, es decir,el concepto de \"método independiente\" ya no es necesario en versiones modernas de Python"
   ]
  },
  {
   "cell_type": "code",
   "execution_count": 32,
   "metadata": {
    "collapsed": true
   },
   "outputs": [],
   "source": [
    "import functools, operator\n",
    "class Matematicas(object):\n",
    "    def producto(*numeros):\n",
    "        return functools.reduce(operator.mul,numeros)\n",
    "    \n",
    "    def cadena(*numeros):\n",
    "        return functools.reduce(operator.pow,numeros)"
   ]
  },
  {
   "cell_type": "code",
   "execution_count": 30,
   "metadata": {},
   "outputs": [
    {
     "data": {
      "text/plain": [
       "60"
      ]
     },
     "execution_count": 30,
     "metadata": {},
     "output_type": "execute_result"
    }
   ],
   "source": [
    "Matematicas.producto(3,4,5)"
   ]
  },
  {
   "cell_type": "code",
   "execution_count": 33,
   "metadata": {},
   "outputs": [
    {
     "data": {
      "text/plain": [
       "3486784401"
      ]
     },
     "execution_count": 33,
     "metadata": {},
     "output_type": "execute_result"
    }
   ],
   "source": [
    "Matematicas.cadena(3,4,5)"
   ]
  },
  {
   "cell_type": "markdown",
   "metadata": {},
   "source": [
    "## Envíos múltiples (Multiple Dispatch)"
   ]
  },
  {
   "cell_type": "markdown",
   "metadata": {},
   "source": [
    "**Un enfoque muy interesante para programar múltiples caminos de ejecución  es una técnica llamada \"envío múltiple\" o, a veces, \"multimethods**. \"La idea aquí es declarar múltiples firmas por una sola función y que esta llame al cálculo real que coincida con los tipos o propiedades de los argumentos que llaman. \n",
    "\n",
    "Ésta técnica a menudo permite evitar o reducir el uso de ramificaciones condicionalmente explícitas,y en su lugar, sustituir el uso de descripciones de patrones más intuitivos de argumentos.\n",
    "\n",
    "Para explicar cómo el despacho múltiple puede hacer el código más legible y menos propenso a errores, implementemos el juego de piedra/ papel / tijera en tres estilos Vamos a crear las clases para jugar el juego para todas las versiones. \n"
   ]
  },
  {
   "cell_type": "markdown",
   "metadata": {},
   "source": [
    "Enlace a piedra Papel o tijera OJOOO"
   ]
  },
  {
   "cell_type": "markdown",
   "metadata": {},
   "source": []
  }
 ],
 "metadata": {
  "kernelspec": {
   "display_name": "Python 3",
   "language": "python",
   "name": "python3"
  },
  "language_info": {
   "codemirror_mode": {
    "name": "ipython",
    "version": 3
   },
   "file_extension": ".py",
   "mimetype": "text/x-python",
   "name": "python",
   "nbconvert_exporter": "python",
   "pygments_lexer": "ipython3",
   "version": "3.6.1"
  }
 },
 "nbformat": 4,
 "nbformat_minor": 2
}
