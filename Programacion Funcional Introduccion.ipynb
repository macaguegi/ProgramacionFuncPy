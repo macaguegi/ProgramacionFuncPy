{
 "cells": [
  {
   "cell_type": "markdown",
   "metadata": {},
   "source": [
    "# Taller de Programación Funcional con Python"
   ]
  },
  {
   "cell_type": "markdown",
   "metadata": {},
   "source": [
    "## PyCon Colombia 2018"
   ]
  },
  {
   "cell_type": "markdown",
   "metadata": {
    "collapsed": true
   },
   "source": [
    "### El paradigma de Programación Funcional"
   ]
  },
  {
   "cell_type": "markdown",
   "metadata": {},
   "source": [
    "Cada paradigma de programación tiene sus propios : "
   ]
  },
  {
   "cell_type": "markdown",
   "metadata": {},
   "source": [
    "- Conceptos y nociones : La guia u orientación del pensamiento y de describir las soluciones a los problemas."
   ]
  },
  {
   "cell_type": "markdown",
   "metadata": {},
   "source": [
    "- Colecciones de lenguajes."
   ]
  },
  {
   "cell_type": "markdown",
   "metadata": {},
   "source": [
    "- Modelos de computación."
   ]
  },
  {
   "cell_type": "markdown",
   "metadata": {},
   "source": [
    "### Aspectos importantes de la programación funcional"
   ]
  },
  {
   "cell_type": "markdown",
   "metadata": {},
   "source": [
    "No hay asignación, es decir no podremos cambiar el valor de una variable. No se podran definir procesos repetitivos por iteración , tendremos que hacer uso de la **recursión**."
   ]
  },
  {
   "cell_type": "markdown",
   "metadata": {},
   "source": [
    "Las funciones son valores . Podemos tener : funciones que toman como argumentos otra funciones , funciones que retornan funciones como resultados, listas de funciones, entre otros."
   ]
  },
  {
   "cell_type": "markdown",
   "metadata": {},
   "source": [
    "### Programación Funcional en Python"
   ]
  },
  {
   "cell_type": "markdown",
   "metadata": {},
   "source": [
    "A pesar de que Python no es un lenguaje de programación puramente funcional, sí es un lenguaje multiparadigma y nos ofrece las libertades suficientes y opciones que lo acercan bastante a las herramientas de la programación funcional. "
   ]
  },
  {
   "cell_type": "markdown",
   "metadata": {},
   "source": [
    "*Aquí pensé poner algo más de teoría sobre la programación funcional, especificamente de las listas y documentación de las librerías que se usarán en el taller*"
   ]
  },
  {
   "cell_type": "markdown",
   "metadata": {},
   "source": [
    "# Taller "
   ]
  },
  {
   "cell_type": "markdown",
   "metadata": {},
   "source": [
    "## Ejercicio 1"
   ]
  },
  {
   "cell_type": "markdown",
   "metadata": {},
   "source": [
    "Evitemos los ciclos. Generalmente estamos acostumbrados a programar haciendo uso de procesos iterativos . No obstante esto es algo que se debe evitar a toda costa en la PF , por lo tanto el primer ejercicio consiste en hacer una función que guarde en la variable *nombre* una entrada por teclado y lo guarde solo si la longitud del nombre es mayor a 2 caracteres, si no lo es que siga pidiendo una entrada de texto por teclado del nombre."
   ]
  },
  {
   "cell_type": "markdown",
   "metadata": {},
   "source": [
    "Sugerencias :"
   ]
  },
  {
   "cell_type": "markdown",
   "metadata": {},
   "source": [
    "- El nombre de la función puede ser definirNombre\n",
    "- Dentro del retorno de una función pueden hacerse evaluacipnes y comparaciones."
   ]
  },
  {
   "cell_type": "markdown",
   "metadata": {
    "collapsed": true
   },
   "source": [
    "## Funciones importantes"
   ]
  },
  {
   "cell_type": "markdown",
   "metadata": {},
   "source": [
    "*Aquí poner algo sobre funciones anónimas y funciones lambda*"
   ]
  },
  {
   "cell_type": "markdown",
   "metadata": {},
   "source": [
    "### Map"
   ]
  },
  {
   "cell_type": "markdown",
   "metadata": {},
   "source": [
    " La herramienta map aplica una función a todos los elementos de una lista de entrada . A continuación se ejemplifica su uso : "
   ]
  },
  {
   "cell_type": "markdown",
   "metadata": {},
   "source": [
    "```python\n",
    "   map(funcion_para_aplicar, lista_entrada)\n",
    "```"
   ]
  },
  {
   "cell_type": "code",
   "execution_count": 2,
   "metadata": {},
   "outputs": [
    {
     "data": {
      "text/plain": [
       "[1, 125, 343, 512, 1331, 39304]"
      ]
     },
     "execution_count": 2,
     "metadata": {},
     "output_type": "execute_result"
    }
   ],
   "source": [
    "def cuboDeUnNumero (x) :\n",
    "    return x**3\n",
    "    \n",
    "elementos = [1 , 5, 7, 8, 11 , 34]\n",
    "list(map(cuboDeUnNumero, elementos))"
   ]
  },
  {
   "cell_type": "code",
   "execution_count": null,
   "metadata": {
    "collapsed": true
   },
   "outputs": [],
   "source": []
  }
 ],
 "metadata": {
  "kernelspec": {
   "display_name": "Python 3",
   "language": "python",
   "name": "python3"
  },
  "language_info": {
   "codemirror_mode": {
    "name": "ipython",
    "version": 3
   },
   "file_extension": ".py",
   "mimetype": "text/x-python",
   "name": "python",
   "nbconvert_exporter": "python",
   "pygments_lexer": "ipython3",
   "version": "3.6.1"
  }
 },
 "nbformat": 4,
 "nbformat_minor": 2
}
